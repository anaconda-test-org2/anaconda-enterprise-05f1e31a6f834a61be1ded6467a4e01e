{
 "cells": [
  {
   "cell_type": "code",
   "execution_count": 1,
   "metadata": {},
   "outputs": [],
   "source": [
    "import pandas as pd\n",
    "import numpy as np\n",
    "from sklearn.metrics.pairwise import euclidean_distances"
   ]
  },
  {
   "cell_type": "code",
   "execution_count": 2,
   "metadata": {},
   "outputs": [],
   "source": [
    "df = pd.read_csv(\"whiskies.csv\")"
   ]
  },
  {
   "cell_type": "code",
   "execution_count": 3,
   "metadata": {},
   "outputs": [],
   "source": [
    "features = ['Body', 'Sweetness', 'Smoky', 'Medicinal', 'Tobacco', 'Honey', 'Spicy', 'Winey', 'Nutty',\n",
    "    'Malty', 'Fruity', 'Floral']\n",
    "def calculate_similarity(scotch1, scotch2):\n",
    "    # get reviews\n",
    "    scotch_1_reviews = df[df.Distillery==scotch1]\n",
    "    scotch_2_reviews = df[df.Distillery==scotch2]\n",
    "    dists = []\n",
    "    for f in features:\n",
    "        dists.append(euclidean_distances(np.reshape(scotch_1_reviews[f].values, (-1,1)), \n",
    "                                         np.reshape(scotch_2_reviews[f].values, (-1,1)))[0][0])\n",
    "    return dists"
   ]
  },
  {
   "cell_type": "code",
   "execution_count": 4,
   "metadata": {},
   "outputs": [
    {
     "name": "stdout",
     "output_type": "stream",
     "text": [
      "starting Aberfeldy\n",
      "starting Aberlour\n",
      "starting AnCnoc\n",
      "starting Ardbeg\n",
      "starting Ardmore\n",
      "starting ArranIsleOf\n",
      "starting Auchentoshan\n",
      "starting Auchroisk\n",
      "starting Aultmore\n",
      "starting Balblair\n",
      "starting Balmenach\n",
      "starting Belvenie\n",
      "starting BenNevis\n",
      "starting Benriach\n",
      "starting Benrinnes\n",
      "starting Benromach\n",
      "starting Bladnoch\n",
      "starting BlairAthol\n",
      "starting Bowmore\n",
      "starting Bruichladdich\n",
      "starting Bunnahabhain\n",
      "starting Caol Ila\n",
      "starting Cardhu\n",
      "starting Clynelish\n",
      "starting Craigallechie\n",
      "starting Craigganmore\n",
      "starting Dailuaine\n",
      "starting Dalmore\n",
      "starting Dalwhinnie\n",
      "starting Deanston\n",
      "starting Dufftown\n",
      "starting Edradour\n",
      "starting GlenDeveronMacduff\n",
      "starting GlenElgin\n",
      "starting GlenGarioch\n",
      "starting GlenGrant\n",
      "starting GlenKeith\n",
      "starting GlenMoray\n",
      "starting GlenOrd\n",
      "starting GlenScotia\n",
      "starting GlenSpey\n",
      "starting Glenallachie\n",
      "starting Glendronach\n",
      "starting Glendullan\n",
      "starting Glenfarclas\n",
      "starting Glenfiddich\n",
      "starting Glengoyne\n",
      "starting Glenkinchie\n",
      "starting Glenlivet\n",
      "starting Glenlossie\n",
      "starting Glenmorangie\n",
      "starting Glenrothes\n",
      "starting Glenturret\n",
      "starting Highland Park\n",
      "starting Inchgower\n",
      "starting Isle of Jura\n",
      "starting Knochando\n",
      "starting Lagavulin\n",
      "starting Laphroig\n",
      "starting Linkwood\n",
      "starting Loch Lomond\n",
      "starting Longmorn\n",
      "starting Macallan\n",
      "starting Mannochmore\n",
      "starting Miltonduff\n",
      "starting Mortlach\n",
      "starting Oban\n",
      "starting OldFettercairn\n",
      "starting OldPulteney\n",
      "starting RoyalBrackla\n",
      "starting RoyalLochnagar\n",
      "starting Scapa\n",
      "starting Speyburn\n",
      "starting Speyside\n",
      "starting Springbank\n",
      "starting Strathisla\n",
      "starting Strathmill\n",
      "starting Talisker\n",
      "starting Tamdhu\n",
      "starting Tamnavulin\n",
      "starting Teaninich\n",
      "starting Tobermory\n",
      "starting Tomatin\n",
      "starting Tomintoul\n",
      "starting Tormore\n",
      "starting Tullibardine\n"
     ]
    }
   ],
   "source": [
    "simple_distances = []\n",
    "for x in df.Distillery:\n",
    "    print (\"starting\", x)\n",
    "    for y in df.Distillery:\n",
    "        if x != y:\n",
    "            row = [x, y] + calculate_similarity(x, y)\n",
    "            simple_distances.append(row)"
   ]
  },
  {
   "cell_type": "code",
   "execution_count": 5,
   "metadata": {},
   "outputs": [],
   "source": [
    "def calc_distance(dists, scotch1, scotch2):\n",
    "    mask = (dists.Scotch1==scotch1) & (dists.Scotch2==scotch2)\n",
    "    row = dists[mask]\n",
    "    row = row[['Body', 'Sweetness', 'Smoky', 'Medicinal', 'Tobacco', 'Honey', 'Spicy', 'Winey', \n",
    "               'Nutty', 'Malty', 'Fruity', 'Floral']]\n",
    "    return row.sum(axis=1).tolist()[0]"
   ]
  },
  {
   "cell_type": "code",
   "execution_count": 6,
   "metadata": {},
   "outputs": [],
   "source": [
    "results = pd.DataFrame(simple_distances, columns=['Scotch1', 'Scotch2','Body', 'Sweetness', 'Smoky', 'Medicinal', 'Tobacco', 'Honey', 'Spicy', 'Winey', 'Nutty',\n",
    "    'Malty', 'Fruity', 'Floral'])"
   ]
  },
  {
   "cell_type": "code",
   "execution_count": 7,
   "metadata": {},
   "outputs": [
    {
     "data": {
      "text/plain": [
       "[('Glenlivet', 'GlenElgin', 3.0),\n",
       " ('Glenlivet', 'Glenturret', 3.0),\n",
       " ('Glenlivet', 'Auchroisk', 4.0),\n",
       " ('Glenlivet', 'Knochando', 4.0),\n",
       " ('Glenlivet', 'Aberfeldy', 5.0)]"
      ]
     },
     "execution_count": 7,
     "metadata": {},
     "output_type": "execute_result"
    }
   ],
   "source": [
    "my_scotch = \"Glenlivet\"\n",
    "recs = []\n",
    "for s in df.Distillery:\n",
    "    if my_scotch!=s:\n",
    "        recs.append((my_scotch, s, calc_distance(results, my_scotch, s)))\n",
    "sorted(recs, key=lambda x: x[2])[:5]"
   ]
  },
  {
   "cell_type": "code",
   "execution_count": 8,
   "metadata": {},
   "outputs": [
    {
     "data": {
      "text/html": [
       "<div>\n",
       "<style>\n",
       "    .dataframe thead tr:only-child th {\n",
       "        text-align: right;\n",
       "    }\n",
       "\n",
       "    .dataframe thead th {\n",
       "        text-align: left;\n",
       "    }\n",
       "\n",
       "    .dataframe tbody tr th {\n",
       "        vertical-align: top;\n",
       "    }\n",
       "</style>\n",
       "<table border=\"1\" class=\"dataframe\">\n",
       "  <thead>\n",
       "    <tr style=\"text-align: right;\">\n",
       "      <th></th>\n",
       "      <th>RowID</th>\n",
       "      <th>Distillery</th>\n",
       "      <th>Body</th>\n",
       "      <th>Sweetness</th>\n",
       "      <th>Smoky</th>\n",
       "      <th>Medicinal</th>\n",
       "      <th>Tobacco</th>\n",
       "      <th>Honey</th>\n",
       "      <th>Spicy</th>\n",
       "      <th>Winey</th>\n",
       "      <th>Nutty</th>\n",
       "      <th>Malty</th>\n",
       "      <th>Fruity</th>\n",
       "      <th>Floral</th>\n",
       "      <th>Postcode</th>\n",
       "      <th>Latitude</th>\n",
       "      <th>Longitude</th>\n",
       "    </tr>\n",
       "  </thead>\n",
       "  <tbody>\n",
       "    <tr>\n",
       "      <th>48</th>\n",
       "      <td>49</td>\n",
       "      <td>Glenlivet</td>\n",
       "      <td>2</td>\n",
       "      <td>3</td>\n",
       "      <td>1</td>\n",
       "      <td>0</td>\n",
       "      <td>0</td>\n",
       "      <td>2</td>\n",
       "      <td>2</td>\n",
       "      <td>2</td>\n",
       "      <td>1</td>\n",
       "      <td>2</td>\n",
       "      <td>2</td>\n",
       "      <td>3</td>\n",
       "      <td>AB37 9DB</td>\n",
       "      <td>319560</td>\n",
       "      <td>828780</td>\n",
       "    </tr>\n",
       "  </tbody>\n",
       "</table>\n",
       "</div>"
      ],
      "text/plain": [
       "    RowID Distillery  Body  Sweetness  Smoky  Medicinal  Tobacco  Honey  \\\n",
       "48     49  Glenlivet     2          3      1          0        0      2   \n",
       "\n",
       "    Spicy  Winey  Nutty  Malty  Fruity  Floral   Postcode   Latitude  \\\n",
       "48      2      2      1      2       2       3   AB37 9DB     319560   \n",
       "\n",
       "     Longitude  \n",
       "48      828780  "
      ]
     },
     "execution_count": 8,
     "metadata": {},
     "output_type": "execute_result"
    }
   ],
   "source": [
    "df[df.Distillery == 'Glenlivet']"
   ]
  },
  {
   "cell_type": "code",
   "execution_count": 9,
   "metadata": {},
   "outputs": [],
   "source": [
    "from anaconda_enterprise import publish"
   ]
  },
  {
   "cell_type": "code",
   "execution_count": 13,
   "metadata": {},
   "outputs": [],
   "source": [
    "import json"
   ]
  },
  {
   "cell_type": "code",
   "execution_count": 10,
   "metadata": {},
   "outputs": [],
   "source": [
    "def recommend_scotch(my_scotch):\n",
    "    recs = []\n",
    "    for s in df.Distillery:\n",
    "        if my_scotch!=s:\n",
    "            recs.append((my_scotch, s, calc_distance(results, my_scotch, s)))\n",
    "    return sorted(recs, key=lambda x: x[2])[:5]"
   ]
  },
  {
   "cell_type": "code",
   "execution_count": 11,
   "metadata": {},
   "outputs": [
    {
     "data": {
      "text/plain": [
       "[('Talisker', 'Clynelish', 5.0),\n",
       " ('Talisker', 'Ardbeg', 6.0),\n",
       " ('Talisker', 'Oban', 7.0),\n",
       " ('Talisker', 'BenNevis', 9.0),\n",
       " ('Talisker', 'Dailuaine', 9.0)]"
      ]
     },
     "execution_count": 11,
     "metadata": {},
     "output_type": "execute_result"
    }
   ],
   "source": [
    "recommend_scotch(\"Talisker\")"
   ]
  },
  {
   "cell_type": "code",
   "execution_count": 12,
   "metadata": {},
   "outputs": [
    {
     "name": "stdout",
     "output_type": "stream",
     "text": [
      "/opt/continuum/project\r\n"
     ]
    }
   ],
   "source": [
    "@publish(methods=['GET', 'POST'])\n",
    "def test_input(my_scotch):\n",
    "    return json.dumps({\"Your Input\": my_scotch[0]})"
   ]
  },
  {
   "cell_type": "code",
   "execution_count": 24,
   "metadata": {},
   "outputs": [],
   "source": [
    "@publish(methods=['GET', 'POST'])\n",
    "def make_rec(my_scotch):\n",
    "    results = recommend_scotch(my_scotch[0])\n",
    "    top_picks = []\n",
    "    for x in results:\n",
    "        top_picks.append((x[1], x[2]))\n",
    "    return json.dumps({\"Top 5 Picks For {}\".format(my_scotch[0]) : top_picks})"
   ]
  },
  {
   "cell_type": "code",
   "execution_count": 15,
   "metadata": {},
   "outputs": [],
   "source": [
    "foo = recommend_scotch(\"Talisker\")"
   ]
  },
  {
   "cell_type": "code",
   "execution_count": 19,
   "metadata": {},
   "outputs": [
    {
     "name": "stdout",
     "output_type": "stream",
     "text": [
      "Clynelish 5.0\n",
      "Ardbeg 6.0\n",
      "Oban 7.0\n",
      "BenNevis 9.0\n",
      "Dailuaine 9.0\n"
     ]
    }
   ],
   "source": [
    "for x in foo:\n",
    "    print ( x[1], x[2] )"
   ]
  },
  {
   "cell_type": "code",
   "execution_count": null,
   "metadata": {},
   "outputs": [],
   "source": []
  }
 ],
 "metadata": {
  "kernelspec": {
   "display_name": "[anaconda50_py36] Python 3",
   "language": "python",
   "name": "anaconda-project-anaconda50_py36-python3"
  },
  "language_info": {
   "codemirror_mode": {
    "name": "ipython",
    "version": 3
   },
   "file_extension": ".py",
   "mimetype": "text/x-python",
   "name": "python",
   "nbconvert_exporter": "python",
   "pygments_lexer": "ipython3",
   "version": "3.6.3"
  }
 },
 "nbformat": 4,
 "nbformat_minor": 2
}
